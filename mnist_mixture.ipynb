{
 "cells": [
  {
   "cell_type": "code",
   "execution_count": null,
   "id": "445983f5-404a-4697-a6f6-c5bd66b6862f",
   "metadata": {},
   "outputs": [],
   "source": [
    "import jax\n",
    "import jax.numpy as np\n",
    "from jax.scipy.linalg import solve_triangular\n",
    "\n",
    "from utils import *\n",
    "\n",
    "from priors import *\n",
    "from transformations import *\n",
    "from likelihoods import *\n",
    "from advi import *\n",
    "\n",
    "import matplotlib.pyplot as plt\n",
    "plt.style.use('ggplot')"
   ]
  },
  {
   "cell_type": "markdown",
   "id": "860746d4-0a44-489d-9a10-25d06af624a6",
   "metadata": {},
   "source": [
    "# Data"
   ]
  },
  {
   "cell_type": "markdown",
   "id": "222a7e2d-b28a-4602-877e-f0b7349ad0bb",
   "metadata": {},
   "source": [
    "## 2"
   ]
  },
  {
   "cell_type": "code",
   "execution_count": null,
   "id": "b224f7f1-9bde-424a-bdc7-83238ba024d7",
   "metadata": {},
   "outputs": [],
   "source": [
    "X_mnist_2 = np.load('X_mnist_2.npy')\n",
    "X_mnist_2_proj = np.load('X_mnist_2_proj.npy')"
   ]
  },
  {
   "cell_type": "markdown",
   "id": "dca50097-fe50-40df-81b4-751ddaf6fcb5",
   "metadata": {},
   "source": [
    "## The Evens: 4, 6, 8"
   ]
  },
  {
   "cell_type": "code",
   "execution_count": null,
   "id": "15f47563-3fde-46ba-b94e-eb161a5e30de",
   "metadata": {},
   "outputs": [],
   "source": [
    "X_mnist_evens = np.load('X_mnist_evens.npy')\n",
    "X_mnist_evens_proj = np.load('X_mnist_evens_proj.npy')"
   ]
  },
  {
   "cell_type": "markdown",
   "id": "e741bf67-0690-4cd4-a5ae-c17461c4440f",
   "metadata": {},
   "source": [
    "## Data helpers"
   ]
  },
  {
   "cell_type": "code",
   "execution_count": null,
   "id": "587fcb2a-db1a-4ce1-a425-012f83de5f09",
   "metadata": {},
   "outputs": [],
   "source": [
    "def project_and_resize_2(X):\n",
    "    return np.reshape(X @ X_mnist_2_proj, (28, 28))\n",
    "#"
   ]
  },
  {
   "cell_type": "code",
   "execution_count": null,
   "id": "7af3dde0-05da-473a-b795-90656d30fa7f",
   "metadata": {},
   "outputs": [],
   "source": [
    "def project_and_resize_evens(X):\n",
    "    return np.reshape(X @ X_mnist_evens_proj, (28, 28))\n",
    "#"
   ]
  },
  {
   "cell_type": "markdown",
   "id": "85dfcb50-70bb-4eb7-b966-a43ebcd31e61",
   "metadata": {},
   "source": [
    "# Plotting"
   ]
  },
  {
   "cell_type": "code",
   "execution_count": null,
   "id": "caa4bb56-779b-49d7-a7c9-397c2855523f",
   "metadata": {},
   "outputs": [],
   "source": [
    "def plot_image_grid(image_grid, projection_func, fig_width = 10):\n",
    "    fig, axes = plt.subplots(len(image_grid), len(image_grid[0]))\n",
    "    for row in range(len(image_grid)):\n",
    "        for col in range(len(image_grid[row])):\n",
    "            axes[row, col].imshow(projection_func(image_grid[row][col]))\n",
    "            axes[row, col].set_axis_off()\n",
    "        #\n",
    "    #\n",
    "    fig.set_figwidth(fig_width)\n",
    "    fig.set_figheight(fig_width*len(image_grid)/len(image_grid[0]))\n",
    "    plt.show()\n",
    "#"
   ]
  },
  {
   "cell_type": "markdown",
   "id": "7e9b0b9e-7abc-4551-8f0b-356a4e3cdc02",
   "metadata": {},
   "source": [
    "# Probabilistic model builder\n",
    "* Parameters: a list of components, with each component consisting of a mean vector and precision matrix, as well as a set of mixture weights.\n",
    "* Gaussian prior for the mean vector parameter, with mean hyperparameter set to 0, and mean precision parameter set to .001\n",
    "* Wishart prior for the precision matrix parameter, with inverse scale matrix set to identity, and dof set to `D+dof_delta`, with `dof_delta = 2`.\n",
    "\n",
    "Should return:\n",
    "\n",
    "1. An initialization of the variational parameters for the mean and precision. All parameters initialized to zero.\n",
    "2. The transformations for all model parameters.\n",
    "3. The ELBO."
   ]
  },
  {
   "cell_type": "code",
   "execution_count": null,
   "id": "dce136a9-74c0-4523-8baa-737a6433fd3a",
   "metadata": {},
   "outputs": [],
   "source": [
    "def assemble_mixture_model(X, n_components, concentration, prior_precision = 1e-3, dof_delta = 2):\n",
    "    D = X.shape[1]\n",
    "    D_prec = D + D*(D-1)//2\n",
    "    init_variational_params, log_priors, transformations = {}, {}, {}\n",
    "    \n",
    "    return init_variational_params, transformations, elbo\n",
    "#"
   ]
  },
  {
   "cell_type": "markdown",
   "id": "87e02f7e-e0a9-48ff-8203-6cb85281f1e8",
   "metadata": {},
   "source": [
    "# Bayesian mixture model for digit 2"
   ]
  },
  {
   "cell_type": "code",
   "execution_count": null,
   "id": "9c6c4a7e-b54b-44e6-8285-0b4e7c4ad036",
   "metadata": {},
   "outputs": [],
   "source": [
    "T = 1000 # number of optimization steps\n",
    "starting_step_size, alpha, mc_samples = .2, .5, 4 # use these parameters for optimization (starting off, lower MC samples for computation efficiency)\n",
    "\n",
    "# TODO: Assemble probabilistic model, optimize ELBO\n"
   ]
  },
  {
   "cell_type": "markdown",
   "id": "79a14018-9141-4d55-bb27-f461fd703093",
   "metadata": {},
   "source": [
    "# Bayesian mixture model for even digits"
   ]
  },
  {
   "cell_type": "code",
   "execution_count": null,
   "id": "ff854eaf-d508-4849-bfee-bb05ad6e3760",
   "metadata": {},
   "outputs": [],
   "source": [
    "T = 1000 # number of optimization steps\n",
    "starting_step_size, alpha, mc_samples = .2, .5, 4 # use these parameters for optimization\n",
    "\n",
    "# TODO: Assemble probabilistic model, optimize ELBO\n"
   ]
  }
 ],
 "metadata": {
  "kernelspec": {
   "display_name": "Python 3 (ipykernel)",
   "language": "python",
   "name": "python3"
  },
  "language_info": {
   "codemirror_mode": {
    "name": "ipython",
    "version": 3
   },
   "file_extension": ".py",
   "mimetype": "text/x-python",
   "name": "python",
   "nbconvert_exporter": "python",
   "pygments_lexer": "ipython3",
   "version": "3.9.19"
  }
 },
 "nbformat": 4,
 "nbformat_minor": 5
}
