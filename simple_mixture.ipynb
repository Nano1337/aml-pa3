{
 "cells": [
  {
   "cell_type": "code",
   "execution_count": null,
   "id": "781d7aa7-e9ee-414b-b22d-113c67f7d5e3",
   "metadata": {},
   "outputs": [],
   "source": [
    "import jax\n",
    "import jax.numpy as np\n",
    "\n",
    "from utils import *\n",
    "\n",
    "from priors import *\n",
    "from transformations import *\n",
    "from likelihoods import *\n",
    "from advi import *\n",
    "\n",
    "import matplotlib.pyplot as plt\n",
    "plt.style.use('ggplot')"
   ]
  },
  {
   "cell_type": "markdown",
   "id": "7502b2ea-5bd4-4f5f-80b7-6e22b7ef38de",
   "metadata": {},
   "source": [
    "# Data"
   ]
  },
  {
   "cell_type": "code",
   "execution_count": null,
   "id": "66d4815e-add3-4b83-9486-6ca5261819d8",
   "metadata": {},
   "outputs": [],
   "source": [
    "X_simple = np.load('X_mixture_simple.npy')\n",
    "X_complex = np.load('X_mixture_complex.npy')"
   ]
  },
  {
   "cell_type": "markdown",
   "id": "23b9006d-0500-4dee-b39e-7821a2fa8eab",
   "metadata": {},
   "source": [
    "# Plotting"
   ]
  },
  {
   "cell_type": "code",
   "execution_count": null,
   "id": "836a2dd8-68f5-4ef4-b18b-858e3af56a73",
   "metadata": {},
   "outputs": [],
   "source": [
    "def plot_2d_samples(X):\n",
    "    fig, ax = plt.subplots()\n",
    "    ax.scatter(X[:,0], X[:,1], alpha = 0.6)\n",
    "    plt.show()\n",
    "#"
   ]
  },
  {
   "cell_type": "code",
   "execution_count": null,
   "id": "9b616da5-fda6-4657-9f94-323171d15dda",
   "metadata": {},
   "outputs": [],
   "source": [
    "def plot_2d_likelihood_with_samples(X, x_grid_samples, y_grid_samples, gridded_likelihood, n_contours = 25):\n",
    "    fig, ax = plt.subplots()\n",
    "    ax.scatter(X[:,0], X[:,1], alpha = 0.6)\n",
    "    ax.contour(x_grid_samples, y_grid_samples, gridded_likelihood, n_contours)\n",
    "    plt.show()\n",
    "#"
   ]
  },
  {
   "cell_type": "markdown",
   "id": "008db625-e248-4571-8292-4da0df4de34e",
   "metadata": {},
   "source": [
    "# Probabilistic model builder\n",
    "* Parameters: a list of components, with each component consisting of a mean vector and precision matrix, as well as a set of mixture weights.\n",
    "* Gaussian prior for the mean vector parameter, with mean hyperparameter set to 0, and mean precision parameter set to .1\n",
    "* Wishart prior for the precision matrix parameter, with inverse scale matrix set to identity, and dof set to 4\n",
    "\n",
    "Should return:\n",
    "\n",
    "1. An initialization of the variational parameters for the mean and precision. All parameters initialized to zero.\n",
    "2. The transformations for all model parameters.\n",
    "3. The ELBO."
   ]
  },
  {
   "cell_type": "code",
   "execution_count": null,
   "id": "678f6667-e189-419d-a49f-b5c202153ecc",
   "metadata": {},
   "outputs": [],
   "source": [
    "def assemble_mixture_model(X, n_components, concentration, prior_precision = 1e-1, dof = 4):\n",
    "    init_variational_params, log_priors, transformations = {}, {}, {}\n",
    "    \n",
    "    return init_variational_params, transformations, elbo\n",
    "#"
   ]
  },
  {
   "cell_type": "markdown",
   "id": "10f73868-5a77-495e-aa4b-d1d3e5ecd97a",
   "metadata": {},
   "source": [
    "# Simple mixture"
   ]
  },
  {
   "cell_type": "code",
   "execution_count": null,
   "id": "f5b68129-6eb4-4b7f-8342-46c37bfc5436",
   "metadata": {},
   "outputs": [],
   "source": [
    "T = 1000 # number of optimization steps\n",
    "n_components = 5 # number of components\n",
    "concentration_prior = 4 # concentration prior for Dirichlet\n",
    "\n",
    "# TODO: Assemble probabilistic model for X_simple, optimize ELBO"
   ]
  },
  {
   "cell_type": "markdown",
   "id": "70eed7c4-d418-40dd-8fc1-9d47d6d4adb7",
   "metadata": {},
   "source": [
    "## Plot of simple data"
   ]
  },
  {
   "cell_type": "code",
   "execution_count": null,
   "id": "a5894b05-3aed-43b1-9fab-9e52e610e274",
   "metadata": {},
   "outputs": [],
   "source": [
    "plot_2d_samples(X_simple)"
   ]
  },
  {
   "cell_type": "markdown",
   "id": "bcf23444-71b4-40a2-b024-2f54ecff5079",
   "metadata": {},
   "source": [
    "## Plot the posterior mean, as a set of contours"
   ]
  },
  {
   "cell_type": "code",
   "execution_count": null,
   "id": "ef55261c-8f48-40ed-bb7a-d585a7c343a0",
   "metadata": {},
   "outputs": [],
   "source": [
    "x_samples = np.linspace(-4, 6, 100)\n",
    "y_samples = np.linspace(-8, 7, 100)\n",
    "grid = np.reshape(np.stack(np.meshgrid(x_samples, y_samples),axis=-1), (-1, 2))"
   ]
  },
  {
   "cell_type": "markdown",
   "id": "5d78adf7-bb7c-4937-b5c9-00b9d01d0a2a",
   "metadata": {},
   "source": [
    "# Complex mixture"
   ]
  },
  {
   "cell_type": "code",
   "execution_count": null,
   "id": "30913d48-127a-4505-b3cf-18ab4d5f1ac6",
   "metadata": {},
   "outputs": [],
   "source": [
    "T = 1000 # number of optimization steps\n",
    "n_components = 5 # number of components\n",
    "\n",
    "# TODO: Assemble probabilistic model for X_complex, optimize ELBO, for different concentration priors"
   ]
  },
  {
   "cell_type": "markdown",
   "id": "5450d99d-1db5-4db0-8269-ccaf3b3cf532",
   "metadata": {},
   "source": [
    "## Plot of complex data"
   ]
  },
  {
   "cell_type": "code",
   "execution_count": null,
   "id": "c2b2afd8-a5e7-47bb-ae82-9b84486d64b9",
   "metadata": {},
   "outputs": [],
   "source": [
    "plot_2d_samples(X_complex)"
   ]
  },
  {
   "cell_type": "markdown",
   "id": "295d3b09-fb7f-41b5-bbd5-7785e25bfd33",
   "metadata": {},
   "source": [
    "## Study the choice of concentration parameter for the Dirchlet\n",
    "\n",
    "For each setting of concentration parameter, plot (1) the posterior mean, and (2) a small (e.g. 3) set of samples from the posterior.\n",
    "\n",
    "Remember: \"posterior mean\" and \"sample from the posterior\" refer to mixture models."
   ]
  }
 ],
 "metadata": {
  "kernelspec": {
   "display_name": "Python 3 (ipykernel)",
   "language": "python",
   "name": "python3"
  },
  "language_info": {
   "codemirror_mode": {
    "name": "ipython",
    "version": 3
   },
   "file_extension": ".py",
   "mimetype": "text/x-python",
   "name": "python",
   "nbconvert_exporter": "python",
   "pygments_lexer": "ipython3",
   "version": "3.9.19"
  }
 },
 "nbformat": 4,
 "nbformat_minor": 5
}
